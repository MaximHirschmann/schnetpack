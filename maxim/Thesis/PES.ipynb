{
 "cells": [
  {
   "cell_type": "code",
   "execution_count": 1,
   "metadata": {},
   "outputs": [],
   "source": [
    "import torch\n",
    "import os\n",
    "import sys\n",
    "import matplotlib\n",
    "from matplotlib import pyplot as plt\n",
    "\n",
    "sys.path.insert(1, \"C:\\\\Users\\\\Maxim\\\\Documents\\\\GitHub\\\\Studium\\\\Bachelor\\\\schnetpack\\\\src\")\n",
    "\n",
    "import schnetpack as spk\n",
    "import schnetpack.transform as trn\n",
    "\n",
    "import numpy as np\n",
    "import math\n",
    "import tqdm\n",
    "\n",
    "from ase.io.extxyz import read_xyz"
   ]
  },
  {
   "cell_type": "code",
   "execution_count": 2,
   "metadata": {},
   "outputs": [],
   "source": [
    "model = torch.load(\"./jonas_hessian_500_loose\")\n",
    "\n",
    "with open(\"./found_conformers_run0.xyz\", \"r\") as f:\n",
    "    base_configuration = list(read_xyz(f, index = 0))[0]\n",
    "    base_configuration2 = list(read_xyz(f, index = 1))[0]\n",
    "    base_configuration3 = list(read_xyz(f, index = 2))[0]"
   ]
  },
  {
   "cell_type": "code",
   "execution_count": 4,
   "metadata": {},
   "outputs": [],
   "source": [
    "%matplotlib qt\n",
    "\n",
    "def plot_positions(atom):\n",
    "    positions = atom.positions\n",
    "    numbers = atom.numbers\n",
    "    \n",
    "    colors = {6: \"black\", 8: \"red\", 1: \"blue\"}\n",
    "    colors = [colors[n] for n in numbers]\n",
    "    charges = {6: \"C\", 8: \"O\", 1: \"H\"}\n",
    "    \n",
    "    fig = plt.figure()\n",
    "    ax = fig.add_subplot(111, projection='3d')\n",
    "    \n",
    "    # draw the bond between atom (0, 2) and (2, 8)\n",
    "    for i, j in [(0, 2), (2, 8), (0, 1), (0, 3), (0, 4), (1, 7), (1, 5), (1, 6)]:\n",
    "        x = [positions[i][0], positions[j][0]]\n",
    "        y = [positions[i][1], positions[j][1]]\n",
    "        z = [positions[i][2], positions[j][2]]\n",
    "        ax.plot(x, y, z, c=\"gray\")\n",
    "        \n",
    "    for i, (x, y, z) in enumerate(positions):\n",
    "        ax.scatter(x, y, z, c=colors[i], label=i, s=100)\n",
    "        ax.text(x, y, z + 0.15, f\"{charges[numbers[i]]}\", color='black')  # Shift the label slightly above the point\n",
    "    \n",
    "    \n",
    "    # remove the axis\n",
    "    ax.set_xticklabels([])\n",
    "    ax.set_yticklabels([])\n",
    "    ax.set_zticklabels([])\n",
    "    \n",
    "    \n",
    "    # rotate\n",
    "    ax.view_init(elev=30, azim=20)\n",
    "    \n",
    "    plt.savefig(\"ethanol.png\", dpi=300)\n",
    "    \n",
    "    # plt.legend()\n",
    "    plt.show()\n",
    "\n",
    "plot_positions(base_configuration)\n",
    "# plot_positions(base_configuration2)\n",
    "# plot_positions(base_configuration3)"
   ]
  },
  {
   "cell_type": "code",
   "execution_count": 5,
   "metadata": {},
   "outputs": [],
   "source": [
    "def rotation_matrix(axis, theta):\n",
    "    \"\"\"\n",
    "    Return the rotation matrix associated with counterclockwise rotation about\n",
    "    the given axis by theta radians.\n",
    "    \"\"\"\n",
    "    axis = np.asarray(axis)\n",
    "    axis = axis / math.sqrt(np.dot(axis, axis))\n",
    "    a = math.cos(theta / 2.0)\n",
    "    b, c, d = -axis * math.sin(theta / 2.0)\n",
    "    aa, bb, cc, dd = a * a, b * b, c * c, d * d\n",
    "    bc, ad, ac, ab, bd, cd = b * c, a * d, a * c, a * b, b * d, c * d\n",
    "    return np.array([[aa + bb - cc - dd, 2 * (bc + ad), 2 * (bd - ac)],\n",
    "                     [2 * (bc - ad), aa + cc - bb - dd, 2 * (cd + ab)],\n",
    "                     [2 * (bd + ac), 2 * (cd - ab), aa + dd - bb - cc]])\n",
    "    \n",
    "# rotate the connection between atom 0 and 2 (C-O bond)\n",
    "# atom 8 the H atom is connected to atom 2 (O)\n",
    "def rotate_C_O(atom, angle):\n",
    "    # origin vector is the C-O bond\n",
    "    origin = atom.positions[2] - atom.positions[0]\n",
    "    # rotate the H atom around the C-O bond\n",
    "    positions = atom.positions\n",
    "    \n",
    "    matrix = rotation_matrix(origin, math.radians(angle))\n",
    "    new_H_position = np.dot(matrix, positions[8] - positions[2]) + positions[2]\n",
    "    \n",
    "    new_atom = atom.copy()\n",
    "    new_atom.positions[8] = new_H_position\n",
    "    \n",
    "    return new_atom\n",
    "\n",
    "def rotate_C_C(atom, angle):\n",
    "    # origin vector is the C-C bond (atom 0 and 1)\n",
    "    origin = atom.positions[1] - atom.positions[0]\n",
    "\n",
    "    # rotate the H atoms (5, 6, 7) around the C-C bond\n",
    "    positions = atom.positions\n",
    "    \n",
    "    matrix = rotation_matrix(origin, math.radians(angle))\n",
    "    new_H5_position = np.dot(matrix, positions[5] - positions[1]) + positions[1]\n",
    "    new_H6_position = np.dot(matrix, positions[6] - positions[1]) + positions[1]\n",
    "    new_H7_position = np.dot(matrix, positions[7] - positions[1]) + positions[1]\n",
    "    \n",
    "    new_atom = atom.copy()\n",
    "    new_atom.positions[5] = new_H5_position\n",
    "    new_atom.positions[6] = new_H6_position\n",
    "    new_atom.positions[7] = new_H7_position\n",
    "    \n",
    "    return new_atom\n",
    "    \n",
    "\n",
    "new_atom_1 = rotate_C_O(base_configuration, -120)\n",
    "new_atom_2 = rotate_C_C(base_configuration, 60)\n",
    "\n",
    "plot_positions(new_atom_1)\n",
    "# plot_positions(new_atom_2)"
   ]
  },
  {
   "cell_type": "code",
   "execution_count": 6,
   "metadata": {},
   "outputs": [
    {
     "name": "stdout",
     "output_type": "stream",
     "text": [
      "Energy of base configuration: -97089.7899496979\n"
     ]
    }
   ],
   "source": [
    "converter = spk.interfaces.AtomsConverter(\n",
    "    neighbor_list=trn.ASENeighborList(cutoff=5.0), dtype=torch.float32, device=\"cuda\"\n",
    ")\n",
    "\n",
    "def get_energy(atom):\n",
    "    inputs = converter(atom)\n",
    "    out = model(inputs)\n",
    "    return out[\"energy\"].item()\n",
    "\n",
    "energy = get_energy(base_configuration)\n",
    "print(f\"Energy of base configuration: {energy}\")"
   ]
  },
  {
   "cell_type": "code",
   "execution_count": 7,
   "metadata": {},
   "outputs": [
    {
     "name": "stdout",
     "output_type": "stream",
     "text": [
      "Energy of base configuration 1: -97089.7899458832\n",
      "Energy of base configuration 2: -97090.16607026522\n",
      "Energy of base configuration 3: -97090.16607598726\n"
     ]
    }
   ],
   "source": [
    "energy1 = get_energy(base_configuration)\n",
    "energy2 = get_energy(base_configuration2)\n",
    "energy3 = get_energy(base_configuration3)\n",
    "\n",
    "print(f\"Energy of base configuration 1: {energy1}\")\n",
    "print(f\"Energy of base configuration 2: {energy2}\")\n",
    "print(f\"Energy of base configuration 3: {energy3}\")"
   ]
  },
  {
   "cell_type": "code",
   "execution_count": 8,
   "metadata": {},
   "outputs": [
    {
     "name": "stderr",
     "output_type": "stream",
     "text": [
      "100%|██████████| 10/10 [01:05<00:00,  6.59s/it]\n"
     ]
    }
   ],
   "source": [
    "# Calculate potential energy surface\n",
    "angles1 = np.linspace(-180, 180, 10)\n",
    "angles2 = np.linspace(-180, 180, 10)\n",
    "\n",
    "energies = []\n",
    "\n",
    "for angle1 in tqdm.tqdm(angles1):\n",
    "    for angle2 in angles2:\n",
    "        atom = rotate_C_O(base_configuration, angle1)\n",
    "        atom = rotate_C_C(atom, angle2)\n",
    "        energy = get_energy(atom)\n",
    "        energies.append((angle1, angle2, energy))\n",
    "\n"
   ]
  },
  {
   "cell_type": "code",
   "execution_count": 43,
   "metadata": {},
   "outputs": [
    {
     "name": "stderr",
     "output_type": "stream",
     "text": [
      "C:\\Users\\Maxim\\AppData\\Local\\Temp\\ipykernel_9480\\2104212003.py:57: MatplotlibDeprecationWarning: The collections attribute was deprecated in Matplotlib 3.8 and will be removed two minor releases later.\n",
      "  for c in surf.collections:\n"
     ]
    }
   ],
   "source": [
    "def plot_PES_3d(energies):\n",
    "    x = np.array([p[0] for p in energies])\n",
    "    y = np.array([p[1] for p in energies])\n",
    "    z = np.array([p[2] for p in energies])\n",
    "\n",
    "    # Create grid data for X and Y, using unique values\n",
    "    x_unique = np.unique(x)\n",
    "    y_unique = np.unique(y)\n",
    "    X, Y = np.meshgrid(x_unique, y_unique)\n",
    "\n",
    "    # Reshape Z data into the same shape as X and Y\n",
    "    Z = np.array(z).reshape(len(x_unique), len(y_unique))\n",
    "\n",
    "    # Create the figure and 3D axes\n",
    "    fig = plt.figure()\n",
    "    ax = fig.add_subplot(111, projection='3d')\n",
    "\n",
    "    # Plot the surface\n",
    "    surf = ax.plot_surface(X, Y, Z, cmap='viridis')\n",
    "\n",
    "    # Labels and title\n",
    "    ax.set_xlabel('Rotation C-O')\n",
    "    ax.set_ylabel('Rotation C-C')\n",
    "    ax.set_zlabel('Energy')\n",
    "    ax.set_title('Potential Energy Surface (PES) - 3D Plot')\n",
    "    \n",
    "    ax.set_zticks([])\n",
    "\n",
    "    # Show the plot\n",
    "    plt.show()\n",
    "    \n",
    "\n",
    "\n",
    "def plot_PES_contour(energies):\n",
    "    # Extract x, y, and z data from energies\n",
    "    x = np.array([p[0] for p in energies])\n",
    "    y = np.array([p[1] for p in energies])\n",
    "    z = np.array([p[2] for p in energies])\n",
    "\n",
    "    # Find the minimum energy at (0, 0)\n",
    "    min_energy = min(z)\n",
    "\n",
    "    # Calculate the energy difference relative to the minimum energy\n",
    "    z_diff = np.array(z) - min_energy\n",
    "\n",
    "    # Create grid data for X and Y, using unique values\n",
    "    x_unique = np.unique(x)\n",
    "    y_unique = np.unique(y)\n",
    "    X, Y = np.meshgrid(x_unique, y_unique)\n",
    "\n",
    "    # Reshape Z data into the same shape as X and Y\n",
    "    Z_diff = z_diff.reshape(len(y_unique), len(x_unique))\n",
    "\n",
    "    # Create the figure and contour plot\n",
    "    fig, ax = plt.subplots(figsize=(8, 6))  # Adjusted size for tighter fit\n",
    "    surf = ax.contourf(X, Y, Z_diff, levels=20, cmap='viridis', antialiased=False)\n",
    "    for c in surf.collections:\n",
    "        c.set_edgecolor(\"face\")\n",
    "        \n",
    "    # Add color bar with scientific notation formatting\n",
    "    cbar = fig.colorbar(surf, ax=ax, shrink=0.9)  # Shrink color bar\n",
    "    cbar.set_label('ΔE to the equilibrium structure in kcal/mol', fontsize=18)\n",
    "    cbar.ax.tick_params(labelsize=14)  # Font size for ticks\n",
    "\n",
    "    # Labels and title with adjusted font size\n",
    "    ax.set_xlabel('α', fontsize=18, labelpad=10)\n",
    "    ax.set_ylabel('β', fontsize=18, labelpad=10)\n",
    "    ax.set_title('Potential Energy Surface (PES) - Contour Plot', fontsize=18)\n",
    "\n",
    "    # Adjust tick labels' font size\n",
    "    ax.tick_params(axis='both', which='major', labelsize=18)\n",
    "\n",
    "    # Set equal aspect ratio for better visualization\n",
    "    ax.set_aspect('equal')\n",
    "\n",
    "    plt.savefig(\"PES_contour.svg\", dpi=300)\n",
    "    # Show the plot\n",
    "    plt.show()\n",
    "    \n",
    "# plot_PES_3d(energies)\n",
    "plot_PES_contour(energies)\n"
   ]
  },
  {
   "cell_type": "code",
   "execution_count": 35,
   "metadata": {},
   "outputs": [
    {
     "name": "stderr",
     "output_type": "stream",
     "text": [
      "100%|██████████| 90/90 [02:09<00:00,  1.44s/it]\n"
     ]
    }
   ],
   "source": [
    "energies_2d_CC = []\n",
    "energies_2d_CO = []\n",
    "\n",
    "angles = np.linspace(-180, 180, 90)\n",
    "for angle in tqdm.tqdm(angles):\n",
    "    atom = rotate_C_C(base_configuration, angle)\n",
    "    energy = get_energy(atom)\n",
    "    \n",
    "    atom2 = rotate_C_O(base_configuration, angle)\n",
    "    energy2 = get_energy(atom2)\n",
    "    \n",
    "    # energies_2d_CC.append((angle, energy))\n",
    "    energies_2d_CO.append((angle, energy2))"
   ]
  },
  {
   "cell_type": "code",
   "execution_count": 37,
   "metadata": {},
   "outputs": [],
   "source": [
    "def plot2d(energies):\n",
    "    x = np.array([p[0] for p in energies])\n",
    "    y = np.array([p[1] for p in energies])\n",
    "\n",
    "    fig, ax = plt.subplots()\n",
    "    ax.plot(x, y)\n",
    "    ax.set_xlabel('Rotation C-O')\n",
    "    ax.set_ylabel('Energy')\n",
    "    ax.set_title('Potential Energy Surface')\n",
    "    \n",
    "    # set y lim\n",
    "    ax.set_ylim(energy1 - 0.1, energy2 + 0.1)\n",
    "    \n",
    "    plt.show()\n",
    "    \n",
    "plot2d(energies_2d_CC)\n",
    "plot2d(energies_2d_CO)"
   ]
  },
  {
   "cell_type": "code",
   "execution_count": 38,
   "metadata": {},
   "outputs": [
    {
     "name": "stdout",
     "output_type": "stream",
     "text": [
      "[(2.0224719101123583, -97089.77928761904), (-2.0224719101123583, -97089.77928571169), (-119.32584269662921, -97089.77084855501), (119.3258426966292, -97089.77084760134), (123.37078651685397, -97089.73738412325), (-123.37078651685394, -97089.73738126222), (115.28089887640448, -97089.71936444704), (-115.28089887640449, -97089.71935777132), (-6.067415730337075, -97089.69464520876), (6.067415730337075, -97089.69463948671), (127.41573033707868, -97089.62021569673), (-127.41573033707866, -97089.62020520632), (111.23595505617976, -97089.58508328859), (-111.23595505617978, -97089.58506993715), (10.112359550561791, -97089.528743071), (-10.112359550561791, -97089.52874211733), (131.4606741573034, -97089.42395619814), (-131.46067415730337, -97089.42395429079), (-107.19101123595506, -97089.37350587313), (107.19101123595505, -97089.3735030121), (14.157303370786508, -97089.28840188448), (-14.157303370786508, -97089.28839520876), (135.50561797752812, -97089.15657166902), (-135.5056179775281, -97089.1565649933), (-103.14606741573033, -97089.09344319765), (103.14606741573033, -97089.09343938295), (18.202247191011253, -97088.98361806337), (-18.202247191011224, -97088.98361234133), (139.55056179775283, -97088.82905797426), (-139.5505617977528, -97088.82904843752), (99.10112359550561, -97088.7567313141), (-99.10112359550561, -97088.75672940676), (22.24719101123597, -97088.62728719179), (-22.24719101123594, -97088.62727765505), (143.59550561797755, -97088.45515469972), (-143.59550561797752, -97088.45515088503), (-95.0561797752809, -97088.37778691713), (95.0561797752809, -97088.37777642671), (26.292134831460686, -97088.23478154604), (-26.292134831460658, -97088.2347720093), (-147.64044943820224, -97088.050892157), (147.64044943820227, -97088.0508845276), (91.01123595505618, -97087.97314099733), (-91.01123595505618, -97087.97313527529), (30.337078651685403, -97087.82325772707), (-30.337078651685403, -97087.82323960726), (151.68539325842698, -97087.63379697267), (-151.68539325842696, -97087.63378934328), (-86.96629213483146, -97087.56056718294), (86.96629213483146, -97087.56055478517), (34.38202247191012, -97087.41088132326), (-34.38202247191012, -97087.41087941591), (155.7303370786517, -97087.22216157381), (-155.7303370786517, -97087.22215585176), (82.92134831460675, -97087.15847615663), (-82.92134831460675, -97087.15847043459), (38.426966292134836, -97087.01619176332), (-38.426966292134836, -97087.01618222658), (159.77528089887642, -97086.83443860475), (-159.77528089887642, -97086.83443192903), (-78.87640449438202, -97086.78515271608), (78.87640449438203, -97086.78515080873), (42.47191011235955, -97086.65725449983), (-42.47191011235955, -97086.65723828737), (163.82022471910113, -97086.48840169374), (-163.82022471910113, -97086.4883883423), (-74.8314606741573, -97086.45802907411), (74.83146067415731, -97086.45802621309), (-46.51685393258427, -97086.35093526308), (46.51685393258427, -97086.35093526308), (-167.86516853932585, -97086.2003062195), (167.86516853932585, -97086.20030431215), (-70.78651685393258, -97086.19274548952), (70.7865168539326, -97086.19273976747), (-50.561797752808985, -97086.11196927492), (50.561797752808985, -97086.11196927492), (66.74157303370788, -97086.00215177004), (-66.74157303370787, -97086.00214414064), (-171.91011235955057, -97085.98398427431), (171.91011235955057, -97085.98398332064), (54.6067415730337, -97085.95193700258), (-54.6067415730337, -97085.95193318788), (-62.69662921348315, -97085.89560059969), (62.69662921348316, -97085.89559869234), (58.65168539325845, -97085.8785899109), (-58.65168539325842, -97085.87858800356), (-175.95505617977528, -97085.8497908539), (175.95505617977528, -97085.8497908539), (180.0, -97085.80424336855), (-180.0, -97085.80423955385)]\n"
     ]
    }
   ],
   "source": [
    "print(sorted(energies_2d_CC, key=lambda x: x[1]))"
   ]
  },
  {
   "cell_type": "code",
   "execution_count": null,
   "metadata": {},
   "outputs": [],
   "source": []
  }
 ],
 "metadata": {
  "kernelspec": {
   "display_name": "Python 3",
   "language": "python",
   "name": "python3"
  },
  "language_info": {
   "codemirror_mode": {
    "name": "ipython",
    "version": 3
   },
   "file_extension": ".py",
   "mimetype": "text/x-python",
   "name": "python",
   "nbconvert_exporter": "python",
   "pygments_lexer": "ipython3",
   "version": "3.11.7"
  }
 },
 "nbformat": 4,
 "nbformat_minor": 2
}
